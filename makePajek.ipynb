{
 "cells": [
  {
   "cell_type": "markdown",
   "id": "e1554da4-1008-4c2c-a26d-9482533b11c1",
   "metadata": {},
   "source": [
    "## Take in csv file of connections and convert to pajek file format for infomap input"
   ]
  },
  {
   "cell_type": "code",
   "execution_count": 9,
   "id": "59a481e4-22f5-4131-a3fc-2d8ba9ad0dfd",
   "metadata": {},
   "outputs": [],
   "source": [
    "import pandas as pd\n",
    "\n",
    "df = pd.read_csv(\"connections_princeton.csv\")"
   ]
  },
  {
   "cell_type": "code",
   "execution_count": 4,
   "id": "6c1ae146-b814-4563-9c6a-c68f24a96389",
   "metadata": {},
   "outputs": [
    {
     "name": "stdout",
     "output_type": "stream",
     "text": [
      "Total unique neurons: 138584\n"
     ]
    }
   ],
   "source": [
    "# 📊 Step 4: Create a mapping of unique neuron IDs to vertex indices\n",
    "# Combine all unique IDs from pre and post columns\n",
    "unique_ids = pd.unique(df[['pre_root_id', 'post_root_id']].values.ravel())\n",
    "id_to_index = {neuron_id: idx + 1 for idx, neuron_id in enumerate(unique_ids)}\n",
    "\n",
    "# Optional: Check how many unique neurons\n",
    "print(f\"Total unique neurons: {len(unique_ids)}\")\n"
   ]
  },
  {
   "cell_type": "code",
   "execution_count": 5,
   "id": "de7e1f46-5c44-4745-8b45-f628789ffca9",
   "metadata": {},
   "outputs": [
    {
     "name": "stdout",
     "output_type": "stream",
     "text": [
      "Pajek .net file written to: fly_connectome.net\n"
     ]
    }
   ],
   "source": [
    "# Step 5: Write to Pajek .net file\n",
    "net_path = \"fly_connectome.net\"\n",
    "\n",
    "with open(net_path, 'w') as f:\n",
    "    # Write vertices\n",
    "    f.write(f\"*Vertices {len(unique_ids)}\\n\")\n",
    "    for neuron_id, idx in id_to_index.items():\n",
    "        f.write(f'{idx} \"{neuron_id}\"\\n')\n",
    "\n",
    "    # Write edges (directed graph)\n",
    "    f.write(\"\\n*Edges\\n\")\n",
    "    for _, row in df.iterrows():\n",
    "        pre = id_to_index[row['pre_root_id']]\n",
    "        post = id_to_index[row['post_root_id']]\n",
    "        weight = row['syn_count']\n",
    "        f.write(f\"{pre} {post} {weight}\\n\")\n",
    "\n",
    "print(f\"Pajek .net file written to: {net_path}\")"
   ]
  },
  {
   "cell_type": "code",
   "execution_count": 6,
   "id": "4072a4cb-d726-4c6b-b8b1-7cbb82a3c6a0",
   "metadata": {},
   "outputs": [
    {
     "name": "stdout",
     "output_type": "stream",
     "text": [
      "*Vertices 138584\n",
      "1 \"720575940625363947\"\n",
      "2 \"720575940623224444\"\n",
      "3 \"720575940630432382\"\n",
      "4 \"720575940618518557\"\n",
      "5 \"720575940627314521\"\n",
      "6 \"720575940626337738\"\n",
      "7 \"720575940620280405\"\n",
      "8 \"720575940620204726\"\n",
      "9 \"720575940636942447\"\n",
      "10 \"720575940613789411\"\n",
      "11 \"720575940608359298\"\n",
      "12 \"720575940613493733\"\n",
      "13 \"720575940640167477\"\n",
      "14 \"720575940629440518\"\n",
      "15 \"720575940622800116\"\n",
      "16 \"720575940628108309\"\n",
      "17 \"720575940637518960\"\n",
      "18 \"720575940614827922\"\n",
      "19 \"720575940615643835\"\n"
     ]
    }
   ],
   "source": [
    "# Step 6: Validate output\n",
    "# Check a few lines of the file\n",
    "with open(net_path, 'r') as f:\n",
    "    for i in range(20):  # Print first 20 lines\n",
    "        print(f.readline().strip())"
   ]
  }
 ],
 "metadata": {
  "kernelspec": {
   "display_name": "Python 3 (ipykernel)",
   "language": "python",
   "name": "python3"
  },
  "language_info": {
   "codemirror_mode": {
    "name": "ipython",
    "version": 3
   },
   "file_extension": ".py",
   "mimetype": "text/x-python",
   "name": "python",
   "nbconvert_exporter": "python",
   "pygments_lexer": "ipython3",
   "version": "3.11.11"
  }
 },
 "nbformat": 4,
 "nbformat_minor": 5
}
